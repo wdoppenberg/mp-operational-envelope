{
 "nbformat": 4,
 "nbformat_minor": 2,
 "metadata": {
  "language_info": {
   "name": "python",
   "codemirror_mode": {
    "name": "ipython",
    "version": 3
   },
   "version": "3.7.7-final"
  },
  "orig_nbformat": 2,
  "file_extension": ".py",
  "mimetype": "text/x-python",
  "name": "python",
  "npconvert_exporter": "python",
  "pygments_lexer": "ipython3",
  "version": 3,
  "kernelspec": {
   "name": "python37664bitenvvirtualenve22194d806aa42a98c1225ce91f0776a",
   "display_name": "Python 3.7.6 64-bit ('env': virtualenv)"
  }
 },
 "cells": [
  {
   "cell_type": "code",
   "execution_count": 3,
   "metadata": {},
   "outputs": [],
   "source": [
    "import numpy as np\n",
    "from analysis import constants as c, functions as f, components as cmp\n",
    "\n",
    "import matplotlib.pyplot as plt\n",
    "import plotly.graph_objects as go"
   ]
  },
  {
   "cell_type": "code",
   "execution_count": 5,
   "metadata": {},
   "outputs": [],
   "source": [
    "def mdot(p, A_t, Gamma, R, T_c):\n",
    "    \"\"\"\n",
    "    Mass flow function.\n",
    "\n",
    "    Accepts type `np.array` for `p` and `T_c`\n",
    "    \"\"\"\n",
    "    return (p*A_t*Gamma) / np.sqrt(R*T_c)\n",
    "\n",
    "def p_t(V_0, p_0, m_exit_t, rho):\n",
    "    \"\"\"\n",
    "    Pressure vs time function.\n",
    "    \"\"\"\n",
    "    return (V_0 * p_0) / (V_0 + (m_exit_t/rho))"
   ]
  },
  {
   "cell_type": "code",
   "execution_count": 102,
   "metadata": {},
   "outputs": [],
   "source": [
    "p_0 = np.arange(1., 2.2, 0.2)*1e5\n",
    "T_c0 = c.h_vap*c.T_vap0/(c.T_vap0*c.R_vap*np.log(c.p_vap0/p_0)+c.h_vap)\n",
    "m_0 = p_0*c.A_t*c.Gamma/(np.sqrt(c.R*T_c0))\n",
    "V_0 = np.arange(0.05, 0.2, 0.05)*c.V_tube\n",
    "\n",
    "sim_dim = (len(p_0), len(V_0), len(c.t))\n",
    "\n",
    "m = np.zeros(sim_dim)\n",
    "p = np.zeros(sim_dim)\n",
    "temp = np.zeros(sim_dim)\n",
    "\n",
    "m[:, :, 0], _ = np.meshgrid(m_0, V_0, indexing='ij')\n",
    "p[:, :, 0], V_0 = np.meshgrid(p_0, V_0, indexing='ij')\n",
    "p_0 = p[:, :, 0]\n",
    "\n",
    "T_c = 600"
   ]
  },
  {
   "cell_type": "code",
   "execution_count": 105,
   "metadata": {},
   "outputs": [
    {
     "data": {
      "text/plain": "array([[100000., 100000., 100000., 100000.],\n       [120000., 120000., 120000., 120000.],\n       [140000., 140000., 140000., 140000.],\n       [160000., 160000., 160000., 160000.],\n       [180000., 180000., 180000., 180000.],\n       [200000., 200000., 200000., 200000.],\n       [220000., 220000., 220000., 220000.]])"
     },
     "execution_count": 105,
     "metadata": {},
     "output_type": "execute_result"
    }
   ],
   "source": [
    "p_0"
   ]
  },
  {
   "cell_type": "code",
   "execution_count": 106,
   "metadata": {},
   "outputs": [
    {
     "name": "stdout",
     "output_type": "stream",
     "text": "CPU times: user 804 ms, sys: 21.9 ms, total: 826 ms\nWall time: 838 ms\n"
    }
   ],
   "source": [
    "%%time\n",
    "for ii in range(1,len(c.t)):\n",
    "    p[:,:,ii] = V_0*p_0/(V_0+temp[:,:,ii-1])\n",
    "    m[:,:,ii] = mdot(p[:,:,ii-1], c.A_t, c.Gamma, c.R, T_c)\n",
    "    temp[:,:,ii] = temp[:,:,ii-1]+m[:,:,ii]*c.dt/c.rho\n",
    "\n",
    "T_vap = c.h_vap*c.T_vap0/(c.T_vap0*c.R_vap*np.log(c.p_vap0/p)+c.h_vap)"
   ]
  },
  {
   "cell_type": "code",
   "execution_count": 108,
   "metadata": {},
   "outputs": [
    {
     "data": {
      "text/plain": "array([[[100000.        , 100000.        ,  99802.17216446, ...,\n           9994.61296341,   9994.41506361,   9994.21717557],\n        [100000.        , 100000.        ,  99900.98814573, ...,\n          14064.58674202,  14064.31100293,  14064.03528006],\n        [100000.        , 100000.        ,  99933.97030474, ...,\n          17141.07035591,  17140.73758913,  17140.40484174],\n        [100000.        , 100000.        ,  99950.46955236, ...,\n          19696.66419625,  19696.28552228,  19695.90687015]],\n\n       [[120000.        , 120000.        , 119715.2405835 , ...,\n          10957.64580618,  10957.42847705,  10957.21116086],\n        [120000.        , 120000.        , 119857.4511579 , ...,\n          15432.40247901,  15432.09892443,  15431.79538777],\n        [120000.        , 120000.        , 119904.92979374, ...,\n          18823.19759236,  18822.83037339,  18822.46317591],\n        [120000.        , 120000.        , 119928.6832201 , ...,\n          21646.65636718,  21646.23749777,  21645.81865269]],\n\n       [[140000.        , 140000.        , 139612.56402482, ...,\n          11842.63857189,  11842.40341116,  11842.16826444],\n        [140000.        , 140000.        , 139806.01359344, ...,\n          16688.58897936,  16688.25993971,  16687.93091952],\n        [140000.        , 140000.        , 139870.61597005, ...,\n          20367.15898704,  20366.76024734,  20366.36153106],\n        [140000.        , 140000.        , 139902.93955241, ...,\n          23435.54471249,  23435.08911163,  23434.63353734]],\n\n       ...,\n\n       [[180000.        , 180000.        , 179360.05061127, ...,\n          13438.92875379,  13438.66147231,  13438.39420679],\n        [180000.        , 180000.        , 179679.4554938 , ...,\n          18952.95898821,  18952.58412228,  18952.20927859],\n        [180000.        , 180000.        , 179786.17673684, ...,\n          23148.60371852,  23148.14838665,  23147.69308165],\n        [180000.        , 180000.        , 179839.58491308, ...,\n          26656.43924545,  26655.91778507,  26655.39635529]],\n\n       [[200000.        , 200000.        , 199210.25100119, ...,\n          14169.8023284 ,  14169.52035459,  14169.2383976 ],\n        [200000.        , 200000.        , 199604.34432892, ...,\n          19989.22592681,  19988.83012722,  19988.43435113],\n        [200000.        , 200000.        , 199736.05550072, ...,\n          24420.93640114,  24420.45524826,  24419.97412381],\n        [200000.        , 200000.        , 199801.97629145, ...,\n          28129.17348404,  28128.62200586,  28128.07056011]],\n\n       [[220000.        , 220000.        , 219044.78090311, ...,\n          14864.78491469,  14864.48897677,  14864.19305653],\n        [220000.        , 220000.        , 219521.35132803, ...,\n          20974.37325019,  20973.95756773,  20973.54190997],\n        [220000.        , 220000.        , 219680.66929866, ...,\n          25630.23420582,  25629.7285428 ,  25629.2229097 ],\n        [220000.        , 220000.        , 219760.41503441, ...,\n          29528.64794462,  29528.06798812,  29527.48806579]]])"
     },
     "execution_count": 108,
     "metadata": {},
     "output_type": "execute_result"
    }
   ],
   "source": [
    "p"
   ]
  },
  {
   "cell_type": "code",
   "execution_count": 107,
   "metadata": {},
   "outputs": [
    {
     "ename": "ValueError",
     "evalue": "x and y must have same first dimension, but have shapes (25000,) and (4,)",
     "output_type": "error",
     "traceback": [
      "\u001b[0;31m---------------------------------------------------------------------------\u001b[0m",
      "\u001b[0;31mValueError\u001b[0m                                Traceback (most recent call last)",
      "\u001b[0;32m<ipython-input-107-f25bd158a7af>\u001b[0m in \u001b[0;36m<module>\u001b[0;34m\u001b[0m\n\u001b[1;32m      2\u001b[0m \u001b[0;34m\u001b[0m\u001b[0m\n\u001b[1;32m      3\u001b[0m \u001b[0;32mfor\u001b[0m \u001b[0mi\u001b[0m \u001b[0;32min\u001b[0m \u001b[0mp\u001b[0m\u001b[0;34m:\u001b[0m\u001b[0;34m\u001b[0m\u001b[0;34m\u001b[0m\u001b[0m\n\u001b[0;32m----> 4\u001b[0;31m     \u001b[0max\u001b[0m\u001b[0;34m.\u001b[0m\u001b[0mplot\u001b[0m\u001b[0;34m(\u001b[0m\u001b[0mc\u001b[0m\u001b[0;34m.\u001b[0m\u001b[0mt\u001b[0m\u001b[0;34m,\u001b[0m \u001b[0mi\u001b[0m\u001b[0;34m[\u001b[0m\u001b[0;34m:\u001b[0m\u001b[0;34m,\u001b[0m\u001b[0;36m0\u001b[0m\u001b[0;34m]\u001b[0m\u001b[0;34m)\u001b[0m\u001b[0;34m\u001b[0m\u001b[0;34m\u001b[0m\u001b[0m\n\u001b[0m\u001b[1;32m      5\u001b[0m \u001b[0;34m\u001b[0m\u001b[0m\n\u001b[1;32m      6\u001b[0m \u001b[0max\u001b[0m\u001b[0;34m.\u001b[0m\u001b[0mset_xlabel\u001b[0m\u001b[0;34m(\u001b[0m\u001b[0;34m'Time [s]'\u001b[0m\u001b[0;34m)\u001b[0m\u001b[0;34m\u001b[0m\u001b[0;34m\u001b[0m\u001b[0m\n",
      "\u001b[0;32m~/Documents/Python/mp-operational-envelope/env/lib/python3.7/site-packages/matplotlib/axes/_axes.py\u001b[0m in \u001b[0;36mplot\u001b[0;34m(self, scalex, scaley, data, *args, **kwargs)\u001b[0m\n\u001b[1;32m   1644\u001b[0m         \"\"\"\n\u001b[1;32m   1645\u001b[0m         \u001b[0mkwargs\u001b[0m \u001b[0;34m=\u001b[0m \u001b[0mcbook\u001b[0m\u001b[0;34m.\u001b[0m\u001b[0mnormalize_kwargs\u001b[0m\u001b[0;34m(\u001b[0m\u001b[0mkwargs\u001b[0m\u001b[0;34m,\u001b[0m \u001b[0mmlines\u001b[0m\u001b[0;34m.\u001b[0m\u001b[0mLine2D\u001b[0m\u001b[0;34m)\u001b[0m\u001b[0;34m\u001b[0m\u001b[0;34m\u001b[0m\u001b[0m\n\u001b[0;32m-> 1646\u001b[0;31m         \u001b[0mlines\u001b[0m \u001b[0;34m=\u001b[0m \u001b[0;34m[\u001b[0m\u001b[0;34m*\u001b[0m\u001b[0mself\u001b[0m\u001b[0;34m.\u001b[0m\u001b[0m_get_lines\u001b[0m\u001b[0;34m(\u001b[0m\u001b[0;34m*\u001b[0m\u001b[0margs\u001b[0m\u001b[0;34m,\u001b[0m \u001b[0mdata\u001b[0m\u001b[0;34m=\u001b[0m\u001b[0mdata\u001b[0m\u001b[0;34m,\u001b[0m \u001b[0;34m**\u001b[0m\u001b[0mkwargs\u001b[0m\u001b[0;34m)\u001b[0m\u001b[0;34m]\u001b[0m\u001b[0;34m\u001b[0m\u001b[0;34m\u001b[0m\u001b[0m\n\u001b[0m\u001b[1;32m   1647\u001b[0m         \u001b[0;32mfor\u001b[0m \u001b[0mline\u001b[0m \u001b[0;32min\u001b[0m \u001b[0mlines\u001b[0m\u001b[0;34m:\u001b[0m\u001b[0;34m\u001b[0m\u001b[0;34m\u001b[0m\u001b[0m\n\u001b[1;32m   1648\u001b[0m             \u001b[0mself\u001b[0m\u001b[0;34m.\u001b[0m\u001b[0madd_line\u001b[0m\u001b[0;34m(\u001b[0m\u001b[0mline\u001b[0m\u001b[0;34m)\u001b[0m\u001b[0;34m\u001b[0m\u001b[0;34m\u001b[0m\u001b[0m\n",
      "\u001b[0;32m~/Documents/Python/mp-operational-envelope/env/lib/python3.7/site-packages/matplotlib/axes/_base.py\u001b[0m in \u001b[0;36m__call__\u001b[0;34m(self, *args, **kwargs)\u001b[0m\n\u001b[1;32m    214\u001b[0m                 \u001b[0mthis\u001b[0m \u001b[0;34m+=\u001b[0m \u001b[0margs\u001b[0m\u001b[0;34m[\u001b[0m\u001b[0;36m0\u001b[0m\u001b[0;34m]\u001b[0m\u001b[0;34m,\u001b[0m\u001b[0;34m\u001b[0m\u001b[0;34m\u001b[0m\u001b[0m\n\u001b[1;32m    215\u001b[0m                 \u001b[0margs\u001b[0m \u001b[0;34m=\u001b[0m \u001b[0margs\u001b[0m\u001b[0;34m[\u001b[0m\u001b[0;36m1\u001b[0m\u001b[0;34m:\u001b[0m\u001b[0;34m]\u001b[0m\u001b[0;34m\u001b[0m\u001b[0;34m\u001b[0m\u001b[0m\n\u001b[0;32m--> 216\u001b[0;31m             \u001b[0;32myield\u001b[0m \u001b[0;32mfrom\u001b[0m \u001b[0mself\u001b[0m\u001b[0;34m.\u001b[0m\u001b[0m_plot_args\u001b[0m\u001b[0;34m(\u001b[0m\u001b[0mthis\u001b[0m\u001b[0;34m,\u001b[0m \u001b[0mkwargs\u001b[0m\u001b[0;34m)\u001b[0m\u001b[0;34m\u001b[0m\u001b[0;34m\u001b[0m\u001b[0m\n\u001b[0m\u001b[1;32m    217\u001b[0m \u001b[0;34m\u001b[0m\u001b[0m\n\u001b[1;32m    218\u001b[0m     \u001b[0;32mdef\u001b[0m \u001b[0mget_next_color\u001b[0m\u001b[0;34m(\u001b[0m\u001b[0mself\u001b[0m\u001b[0;34m)\u001b[0m\u001b[0;34m:\u001b[0m\u001b[0;34m\u001b[0m\u001b[0;34m\u001b[0m\u001b[0m\n",
      "\u001b[0;32m~/Documents/Python/mp-operational-envelope/env/lib/python3.7/site-packages/matplotlib/axes/_base.py\u001b[0m in \u001b[0;36m_plot_args\u001b[0;34m(self, tup, kwargs)\u001b[0m\n\u001b[1;32m    340\u001b[0m \u001b[0;34m\u001b[0m\u001b[0m\n\u001b[1;32m    341\u001b[0m         \u001b[0;32mif\u001b[0m \u001b[0mx\u001b[0m\u001b[0;34m.\u001b[0m\u001b[0mshape\u001b[0m\u001b[0;34m[\u001b[0m\u001b[0;36m0\u001b[0m\u001b[0;34m]\u001b[0m \u001b[0;34m!=\u001b[0m \u001b[0my\u001b[0m\u001b[0;34m.\u001b[0m\u001b[0mshape\u001b[0m\u001b[0;34m[\u001b[0m\u001b[0;36m0\u001b[0m\u001b[0;34m]\u001b[0m\u001b[0;34m:\u001b[0m\u001b[0;34m\u001b[0m\u001b[0;34m\u001b[0m\u001b[0m\n\u001b[0;32m--> 342\u001b[0;31m             raise ValueError(f\"x and y must have same first dimension, but \"\n\u001b[0m\u001b[1;32m    343\u001b[0m                              f\"have shapes {x.shape} and {y.shape}\")\n\u001b[1;32m    344\u001b[0m         \u001b[0;32mif\u001b[0m \u001b[0mx\u001b[0m\u001b[0;34m.\u001b[0m\u001b[0mndim\u001b[0m \u001b[0;34m>\u001b[0m \u001b[0;36m2\u001b[0m \u001b[0;32mor\u001b[0m \u001b[0my\u001b[0m\u001b[0;34m.\u001b[0m\u001b[0mndim\u001b[0m \u001b[0;34m>\u001b[0m \u001b[0;36m2\u001b[0m\u001b[0;34m:\u001b[0m\u001b[0;34m\u001b[0m\u001b[0;34m\u001b[0m\u001b[0m\n",
      "\u001b[0;31mValueError\u001b[0m: x and y must have same first dimension, but have shapes (25000,) and (4,)"
     ]
    }
   ],
   "source": [
    "fig, ax = plt.subplots(1,1)\n",
    "\n",
    "for i in p:\n",
    "    ax.plot(c.t, i[:])\n",
    "\n",
    "ax.set_xlabel('Time [s]')\n",
    "ax.set_ylabel('Pressure [Pa]')\n",
    "ax.text(1800, 1.6e5, '$V_0 = 0.1*V_{tube}$')\n",
    "plt.ticklabel_format(axis=\"y\", style=\"sci\", scilimits=(0,0))\n",
    "ax.legend()\n",
    "ax.grid()"
   ]
  },
  {
   "cell_type": "code",
   "execution_count": 57,
   "metadata": {},
   "outputs": [
    {
     "data": {
      "text/plain": "True"
     },
     "execution_count": 57,
     "metadata": {},
     "output_type": "execute_result"
    }
   ],
   "source": [
    "np.allclose(p, p2)"
   ]
  },
  {
   "cell_type": "code",
   "execution_count": null,
   "metadata": {},
   "outputs": [],
   "source": []
  }
 ]
}