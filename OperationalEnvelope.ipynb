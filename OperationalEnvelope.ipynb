{
  "nbformat": 4,
  "nbformat_minor": 0,
  "metadata": {
    "orig_nbformat": 2,
    "file_extension": ".py",
    "mimetype": "text/x-python",
    "name": "python",
    "npconvert_exporter": "python",
    "pygments_lexer": "ipython3",
    "version": 3,
    "kernelspec": {
      "name": "python3",
      "display_name": "Python 3"
    },
    "colab": {
      "name": "prototyping.ipynb",
      "provenance": [],
      "include_colab_link": true
    }
  },
  "cells": [
    {
      "cell_type": "markdown",
      "metadata": {
        "id": "view-in-github",
        "colab_type": "text"
      },
      "source": [
        "<a href=\"https://colab.research.google.com/github/wdoppenberg/mp-operational-envelope/blob/master/OperationalEnvelope.ipynb\" target=\"_parent\"><img src=\"https://colab.research.google.com/assets/colab-badge.svg\" alt=\"Open In Colab\"/></a>"
      ]
    },
    {
      "cell_type": "code",
      "metadata": {
        "id": "s-I-UuFIPFJe",
        "colab_type": "code",
        "colab": {
          "base_uri": "https://localhost:8080/",
          "height": 119
        },
        "outputId": "f38c0fd9-c45f-4e49-dda5-ddbdc03342a5"
      },
      "source": [
        "!git clone https://github.com/wdoppenberg/mp-operational-envelope.git"
      ],
      "execution_count": 3,
      "outputs": [
        {
          "output_type": "stream",
          "text": [
            "Cloning into 'mp-operational-envelope'...\n",
            "remote: Enumerating objects: 52, done.\u001b[K\n",
            "remote: Counting objects:   1% (1/52)\u001b[K\rremote: Counting objects:   3% (2/52)\u001b[K\rremote: Counting objects:   5% (3/52)\u001b[K\rremote: Counting objects:   7% (4/52)\u001b[K\rremote: Counting objects:   9% (5/52)\u001b[K\rremote: Counting objects:  11% (6/52)\u001b[K\rremote: Counting objects:  13% (7/52)\u001b[K\rremote: Counting objects:  15% (8/52)\u001b[K\rremote: Counting objects:  17% (9/52)\u001b[K\rremote: Counting objects:  19% (10/52)\u001b[K\rremote: Counting objects:  21% (11/52)\u001b[K\rremote: Counting objects:  23% (12/52)\u001b[K\rremote: Counting objects:  25% (13/52)\u001b[K\rremote: Counting objects:  26% (14/52)\u001b[K\rremote: Counting objects:  28% (15/52)\u001b[K\rremote: Counting objects:  30% (16/52)\u001b[K\rremote: Counting objects:  32% (17/52)\u001b[K\rremote: Counting objects:  34% (18/52)\u001b[K\rremote: Counting objects:  36% (19/52)\u001b[K\rremote: Counting objects:  38% (20/52)\u001b[K\rremote: Counting objects:  40% (21/52)\u001b[K\rremote: Counting objects:  42% (22/52)\u001b[K\rremote: Counting objects:  44% (23/52)\u001b[K\rremote: Counting objects:  46% (24/52)\u001b[K\rremote: Counting objects:  48% (25/52)\u001b[K\rremote: Counting objects:  50% (26/52)\u001b[K\rremote: Counting objects:  51% (27/52)\u001b[K\rremote: Counting objects:  53% (28/52)\u001b[K\rremote: Counting objects:  55% (29/52)\u001b[K\rremote: Counting objects:  57% (30/52)\u001b[K\rremote: Counting objects:  59% (31/52)\u001b[K\rremote: Counting objects:  61% (32/52)\u001b[K\rremote: Counting objects:  63% (33/52)\u001b[K\rremote: Counting objects:  65% (34/52)\u001b[K\rremote: Counting objects:  67% (35/52)\u001b[K\rremote: Counting objects:  69% (36/52)\u001b[K\rremote: Counting objects:  71% (37/52)\u001b[K\rremote: Counting objects:  73% (38/52)\u001b[K\rremote: Counting objects:  75% (39/52)\u001b[K\rremote: Counting objects:  76% (40/52)\u001b[K\rremote: Counting objects:  78% (41/52)\u001b[K\rremote: Counting objects:  80% (42/52)\u001b[K\rremote: Counting objects:  82% (43/52)\u001b[K\rremote: Counting objects:  84% (44/52)\u001b[K\rremote: Counting objects:  86% (45/52)\u001b[K\rremote: Counting objects:  88% (46/52)\u001b[K\rremote: Counting objects:  90% (47/52)\u001b[K\rremote: Counting objects:  92% (48/52)\u001b[K\rremote: Counting objects:  94% (49/52)\u001b[K\rremote: Counting objects:  96% (50/52)\u001b[K\rremote: Counting objects:  98% (51/52)\u001b[K\rremote: Counting objects: 100% (52/52)\u001b[K\rremote: Counting objects: 100% (52/52), done.\u001b[K\n",
            "remote: Compressing objects:   2% (1/34)\u001b[K\rremote: Compressing objects:   5% (2/34)\u001b[K\rremote: Compressing objects:   8% (3/34)\u001b[K\rremote: Compressing objects:  11% (4/34)\u001b[K\rremote: Compressing objects:  14% (5/34)\u001b[K\rremote: Compressing objects:  17% (6/34)\u001b[K\rremote: Compressing objects:  20% (7/34)\u001b[K\rremote: Compressing objects:  23% (8/34)\u001b[K\rremote: Compressing objects:  26% (9/34)\u001b[K\rremote: Compressing objects:  29% (10/34)\u001b[K\rremote: Compressing objects:  32% (11/34)\u001b[K\rremote: Compressing objects:  35% (12/34)\u001b[K\rremote: Compressing objects:  38% (13/34)\u001b[K\rremote: Compressing objects:  41% (14/34)\u001b[K\rremote: Compressing objects:  44% (15/34)\u001b[K\rremote: Compressing objects:  47% (16/34)\u001b[K\rremote: Compressing objects:  50% (17/34)\u001b[K\rremote: Compressing objects:  52% (18/34)\u001b[K\rremote: Compressing objects:  55% (19/34)\u001b[K\rremote: Compressing objects:  58% (20/34)\u001b[K\rremote: Compressing objects:  61% (21/34)\u001b[K\rremote: Compressing objects:  64% (22/34)\u001b[K\rremote: Compressing objects:  67% (23/34)\u001b[K\rremote: Compressing objects:  70% (24/34)\u001b[K\rremote: Compressing objects:  73% (25/34)\u001b[K\rremote: Compressing objects:  76% (26/34)\u001b[K\rremote: Compressing objects:  79% (27/34)\u001b[K\rremote: Compressing objects:  82% (28/34)\u001b[K\rremote: Compressing objects:  85% (29/34)\u001b[K\rremote: Compressing objects:  88% (30/34)\u001b[K\rremote: Compressing objects:  91% (31/34)\u001b[K\rremote: Compressing objects:  94% (32/34)\u001b[K\rremote: Compressing objects:  97% (33/34)\u001b[K\rremote: Compressing objects: 100% (34/34)\u001b[K\rremote: Compressing objects: 100% (34/34), done.\u001b[K\n",
            "Unpacking objects:   1% (1/52)   \rUnpacking objects:   3% (2/52)   \rUnpacking objects:   5% (3/52)   \rUnpacking objects:   7% (4/52)   \rUnpacking objects:   9% (5/52)   \rUnpacking objects:  11% (6/52)   \rUnpacking objects:  13% (7/52)   \rUnpacking objects:  15% (8/52)   \rUnpacking objects:  17% (9/52)   \rUnpacking objects:  19% (10/52)   \rUnpacking objects:  21% (11/52)   \rUnpacking objects:  23% (12/52)   \rUnpacking objects:  25% (13/52)   \rUnpacking objects:  26% (14/52)   \rUnpacking objects:  28% (15/52)   \rUnpacking objects:  30% (16/52)   \rUnpacking objects:  32% (17/52)   \rUnpacking objects:  34% (18/52)   \rUnpacking objects:  36% (19/52)   \rUnpacking objects:  38% (20/52)   \rUnpacking objects:  40% (21/52)   \rUnpacking objects:  42% (22/52)   \rUnpacking objects:  44% (23/52)   \rUnpacking objects:  46% (24/52)   \rUnpacking objects:  48% (25/52)   \rUnpacking objects:  50% (26/52)   \rUnpacking objects:  51% (27/52)   \rUnpacking objects:  53% (28/52)   \rUnpacking objects:  55% (29/52)   \rUnpacking objects:  57% (30/52)   \rUnpacking objects:  59% (31/52)   \rUnpacking objects:  61% (32/52)   \rUnpacking objects:  63% (33/52)   \rUnpacking objects:  65% (34/52)   \rremote: Total 52 (delta 15), reused 44 (delta 11), pack-reused 0\u001b[K\n",
            "Unpacking objects:  67% (35/52)   \rUnpacking objects:  69% (36/52)   \rUnpacking objects:  71% (37/52)   \rUnpacking objects:  73% (38/52)   \rUnpacking objects:  75% (39/52)   \rUnpacking objects:  76% (40/52)   \rUnpacking objects:  78% (41/52)   \rUnpacking objects:  80% (42/52)   \rUnpacking objects:  82% (43/52)   \rUnpacking objects:  84% (44/52)   \rUnpacking objects:  86% (45/52)   \rUnpacking objects:  88% (46/52)   \rUnpacking objects:  90% (47/52)   \rUnpacking objects:  92% (48/52)   \rUnpacking objects:  94% (49/52)   \rUnpacking objects:  96% (50/52)   \rUnpacking objects:  98% (51/52)   \rUnpacking objects: 100% (52/52)   \rUnpacking objects: 100% (52/52), done.\n"
          ],
          "name": "stdout"
        }
      ]
    },
    {
      "cell_type": "code",
      "metadata": {
        "id": "r0dSZBNTPqia",
        "colab_type": "code",
        "colab": {
          "base_uri": "https://localhost:8080/",
          "height": 34
        },
        "outputId": "1cb1814e-d9a8-4d2e-fbfc-14d324c06276"
      },
      "source": [
        "cd mp-operational-envelope"
      ],
      "execution_count": 6,
      "outputs": [
        {
          "output_type": "stream",
          "text": [
            "/content/mp-operational-envelope\n"
          ],
          "name": "stdout"
        }
      ]
    },
    {
      "cell_type": "code",
      "metadata": {
        "id": "euZorKXcPCnQ",
        "colab_type": "code",
        "colab": {}
      },
      "source": [
        "import numpy as np\n",
        "from analysis import constants as c, functions as f, components as cmp\n",
        "\n",
        "import matplotlib.pyplot as plt\n",
        "import plotly.graph_objects as go"
      ],
      "execution_count": 0,
      "outputs": []
    },
    {
      "cell_type": "code",
      "metadata": {
        "id": "6NGxI0VKPCnW",
        "colab_type": "code",
        "colab": {}
      },
      "source": [
        "def mdot(p, A_t, Gamma, R, T_c):\n",
        "    \"\"\"\n",
        "    Mass flow function.\n",
        "\n",
        "    Accepts type `np.array` for `p` and `T_c`\n",
        "    \"\"\"\n",
        "    return (p*A_t*Gamma) / np.sqrt(R*T_c)\n",
        "\n",
        "def p_t(V_0, p_0, m_exit_t, rho):\n",
        "    \"\"\"\n",
        "    Pressure vs time function.\n",
        "    \"\"\"\n",
        "    return (V_0 * p_0) / (V_0 + (m_exit_t/rho))"
      ],
      "execution_count": 0,
      "outputs": []
    },
    {
      "cell_type": "code",
      "metadata": {
        "id": "UvJB-CYiPCnb",
        "colab_type": "code",
        "colab": {}
      },
      "source": [
        "p_0 = np.arange(1., 2.2, 0.2)*1e5\n",
        "T_c0 = c.h_vap*c.T_vap0/(c.T_vap0*c.R_vap*np.log(c.p_vap0/p_0)+c.h_vap)\n",
        "m_0 = p_0*c.A_t*c.Gamma/(np.sqrt(c.R*T_c0))\n",
        "V_0 = np.arange(0.05, 0.2, 0.05)*c.V_tube\n",
        "\n",
        "sim_dim = (len(p_0), len(V_0), len(c.t))\n",
        "\n",
        "m = np.zeros(sim_dim)\n",
        "p = np.zeros(sim_dim)\n",
        "temp = np.zeros(sim_dim)\n",
        "\n",
        "m[:, :, 0], _ = np.meshgrid(m_0, V_0, indexing='ij')\n",
        "p[:, :, 0], V_0 = np.meshgrid(p_0, V_0, indexing='ij')\n",
        "p_0 = p[:, :, 0]\n",
        "\n",
        "T_c = 600"
      ],
      "execution_count": 0,
      "outputs": []
    },
    {
      "cell_type": "code",
      "metadata": {
        "id": "BLCv_RaHPCnf",
        "colab_type": "code",
        "colab": {
          "base_uri": "https://localhost:8080/",
          "height": 136
        },
        "outputId": "31ee955b-164d-40a9-88cc-e843c2f38a15"
      },
      "source": [
        "p_0"
      ],
      "execution_count": 10,
      "outputs": [
        {
          "output_type": "execute_result",
          "data": {
            "text/plain": [
              "array([[100000., 100000., 100000., 100000.],\n",
              "       [120000., 120000., 120000., 120000.],\n",
              "       [140000., 140000., 140000., 140000.],\n",
              "       [160000., 160000., 160000., 160000.],\n",
              "       [180000., 180000., 180000., 180000.],\n",
              "       [200000., 200000., 200000., 200000.],\n",
              "       [220000., 220000., 220000., 220000.]])"
            ]
          },
          "metadata": {
            "tags": []
          },
          "execution_count": 10
        }
      ]
    },
    {
      "cell_type": "code",
      "metadata": {
        "id": "gfW4aczEPCnl",
        "colab_type": "code",
        "colab": {},
        "outputId": "98a96125-062e-441c-bc39-922fc371ee81"
      },
      "source": [
        "%%time\n",
        "for ii in range(1,len(c.t)):\n",
        "    p[:,:,ii] = V_0*p_0/(V_0+temp[:,:,ii-1])\n",
        "    m[:,:,ii] = mdot(p[:,:,ii-1], c.A_t, c.Gamma, c.R, T_c)\n",
        "    temp[:,:,ii] = temp[:,:,ii-1]+m[:,:,ii]*c.dt/c.rho\n",
        "\n",
        "T_vap = c.h_vap*c.T_vap0/(c.T_vap0*c.R_vap*np.log(c.p_vap0/p)+c.h_vap)"
      ],
      "execution_count": 0,
      "outputs": [
        {
          "output_type": "stream",
          "text": [
            "CPU times: user 804 ms, sys: 21.9 ms, total: 826 ms\n",
            "Wall time: 838 ms\n"
          ],
          "name": "stdout"
        }
      ]
    },
    {
      "cell_type": "code",
      "metadata": {
        "id": "VlfjnxpKPCnp",
        "colab_type": "code",
        "colab": {},
        "outputId": "ca5056eb-cf97-4195-f792-a6b2ae31263a"
      },
      "source": [
        "p"
      ],
      "execution_count": 0,
      "outputs": [
        {
          "output_type": "execute_result",
          "data": {
            "text/plain": [
              "array([[[100000.        , 100000.        ,  99802.17216446, ...,\n",
              "           9994.61296341,   9994.41506361,   9994.21717557],\n",
              "        [100000.        , 100000.        ,  99900.98814573, ...,\n",
              "          14064.58674202,  14064.31100293,  14064.03528006],\n",
              "        [100000.        , 100000.        ,  99933.97030474, ...,\n",
              "          17141.07035591,  17140.73758913,  17140.40484174],\n",
              "        [100000.        , 100000.        ,  99950.46955236, ...,\n",
              "          19696.66419625,  19696.28552228,  19695.90687015]],\n",
              "\n",
              "       [[120000.        , 120000.        , 119715.2405835 , ...,\n",
              "          10957.64580618,  10957.42847705,  10957.21116086],\n",
              "        [120000.        , 120000.        , 119857.4511579 , ...,\n",
              "          15432.40247901,  15432.09892443,  15431.79538777],\n",
              "        [120000.        , 120000.        , 119904.92979374, ...,\n",
              "          18823.19759236,  18822.83037339,  18822.46317591],\n",
              "        [120000.        , 120000.        , 119928.6832201 , ...,\n",
              "          21646.65636718,  21646.23749777,  21645.81865269]],\n",
              "\n",
              "       [[140000.        , 140000.        , 139612.56402482, ...,\n",
              "          11842.63857189,  11842.40341116,  11842.16826444],\n",
              "        [140000.        , 140000.        , 139806.01359344, ...,\n",
              "          16688.58897936,  16688.25993971,  16687.93091952],\n",
              "        [140000.        , 140000.        , 139870.61597005, ...,\n",
              "          20367.15898704,  20366.76024734,  20366.36153106],\n",
              "        [140000.        , 140000.        , 139902.93955241, ...,\n",
              "          23435.54471249,  23435.08911163,  23434.63353734]],\n",
              "\n",
              "       ...,\n",
              "\n",
              "       [[180000.        , 180000.        , 179360.05061127, ...,\n",
              "          13438.92875379,  13438.66147231,  13438.39420679],\n",
              "        [180000.        , 180000.        , 179679.4554938 , ...,\n",
              "          18952.95898821,  18952.58412228,  18952.20927859],\n",
              "        [180000.        , 180000.        , 179786.17673684, ...,\n",
              "          23148.60371852,  23148.14838665,  23147.69308165],\n",
              "        [180000.        , 180000.        , 179839.58491308, ...,\n",
              "          26656.43924545,  26655.91778507,  26655.39635529]],\n",
              "\n",
              "       [[200000.        , 200000.        , 199210.25100119, ...,\n",
              "          14169.8023284 ,  14169.52035459,  14169.2383976 ],\n",
              "        [200000.        , 200000.        , 199604.34432892, ...,\n",
              "          19989.22592681,  19988.83012722,  19988.43435113],\n",
              "        [200000.        , 200000.        , 199736.05550072, ...,\n",
              "          24420.93640114,  24420.45524826,  24419.97412381],\n",
              "        [200000.        , 200000.        , 199801.97629145, ...,\n",
              "          28129.17348404,  28128.62200586,  28128.07056011]],\n",
              "\n",
              "       [[220000.        , 220000.        , 219044.78090311, ...,\n",
              "          14864.78491469,  14864.48897677,  14864.19305653],\n",
              "        [220000.        , 220000.        , 219521.35132803, ...,\n",
              "          20974.37325019,  20973.95756773,  20973.54190997],\n",
              "        [220000.        , 220000.        , 219680.66929866, ...,\n",
              "          25630.23420582,  25629.7285428 ,  25629.2229097 ],\n",
              "        [220000.        , 220000.        , 219760.41503441, ...,\n",
              "          29528.64794462,  29528.06798812,  29527.48806579]]])"
            ]
          },
          "metadata": {
            "tags": []
          },
          "execution_count": 108
        }
      ]
    },
    {
      "cell_type": "code",
      "metadata": {
        "id": "nwDEwzIzPCnu",
        "colab_type": "code",
        "colab": {},
        "outputId": "3f1c125e-6b54-4444-cc4d-7fd5bb67c9e4"
      },
      "source": [
        "fig, ax = plt.subplots(1,1)\n",
        "\n",
        "for i in p:\n",
        "    ax.plot(c.t, i[:])\n",
        "\n",
        "ax.set_xlabel('Time [s]')\n",
        "ax.set_ylabel('Pressure [Pa]')\n",
        "ax.text(1800, 1.6e5, '$V_0 = 0.1*V_{tube}$')\n",
        "plt.ticklabel_format(axis=\"y\", style=\"sci\", scilimits=(0,0))\n",
        "ax.legend()\n",
        "ax.grid()"
      ],
      "execution_count": 0,
      "outputs": [
        {
          "output_type": "error",
          "ename": "ValueError",
          "evalue": "x and y must have same first dimension, but have shapes (25000,) and (4,)",
          "traceback": [
            "\u001b[0;31m---------------------------------------------------------------------------\u001b[0m",
            "\u001b[0;31mValueError\u001b[0m                                Traceback (most recent call last)",
            "\u001b[0;32m<ipython-input-107-f25bd158a7af>\u001b[0m in \u001b[0;36m<module>\u001b[0;34m\u001b[0m\n\u001b[1;32m      2\u001b[0m \u001b[0;34m\u001b[0m\u001b[0m\n\u001b[1;32m      3\u001b[0m \u001b[0;32mfor\u001b[0m \u001b[0mi\u001b[0m \u001b[0;32min\u001b[0m \u001b[0mp\u001b[0m\u001b[0;34m:\u001b[0m\u001b[0;34m\u001b[0m\u001b[0;34m\u001b[0m\u001b[0m\n\u001b[0;32m----> 4\u001b[0;31m     \u001b[0max\u001b[0m\u001b[0;34m.\u001b[0m\u001b[0mplot\u001b[0m\u001b[0;34m(\u001b[0m\u001b[0mc\u001b[0m\u001b[0;34m.\u001b[0m\u001b[0mt\u001b[0m\u001b[0;34m,\u001b[0m \u001b[0mi\u001b[0m\u001b[0;34m[\u001b[0m\u001b[0;34m:\u001b[0m\u001b[0;34m,\u001b[0m\u001b[0;36m0\u001b[0m\u001b[0;34m]\u001b[0m\u001b[0;34m)\u001b[0m\u001b[0;34m\u001b[0m\u001b[0;34m\u001b[0m\u001b[0m\n\u001b[0m\u001b[1;32m      5\u001b[0m \u001b[0;34m\u001b[0m\u001b[0m\n\u001b[1;32m      6\u001b[0m \u001b[0max\u001b[0m\u001b[0;34m.\u001b[0m\u001b[0mset_xlabel\u001b[0m\u001b[0;34m(\u001b[0m\u001b[0;34m'Time [s]'\u001b[0m\u001b[0;34m)\u001b[0m\u001b[0;34m\u001b[0m\u001b[0;34m\u001b[0m\u001b[0m\n",
            "\u001b[0;32m~/Documents/Python/mp-operational-envelope/env/lib/python3.7/site-packages/matplotlib/axes/_axes.py\u001b[0m in \u001b[0;36mplot\u001b[0;34m(self, scalex, scaley, data, *args, **kwargs)\u001b[0m\n\u001b[1;32m   1644\u001b[0m         \"\"\"\n\u001b[1;32m   1645\u001b[0m         \u001b[0mkwargs\u001b[0m \u001b[0;34m=\u001b[0m \u001b[0mcbook\u001b[0m\u001b[0;34m.\u001b[0m\u001b[0mnormalize_kwargs\u001b[0m\u001b[0;34m(\u001b[0m\u001b[0mkwargs\u001b[0m\u001b[0;34m,\u001b[0m \u001b[0mmlines\u001b[0m\u001b[0;34m.\u001b[0m\u001b[0mLine2D\u001b[0m\u001b[0;34m)\u001b[0m\u001b[0;34m\u001b[0m\u001b[0;34m\u001b[0m\u001b[0m\n\u001b[0;32m-> 1646\u001b[0;31m         \u001b[0mlines\u001b[0m \u001b[0;34m=\u001b[0m \u001b[0;34m[\u001b[0m\u001b[0;34m*\u001b[0m\u001b[0mself\u001b[0m\u001b[0;34m.\u001b[0m\u001b[0m_get_lines\u001b[0m\u001b[0;34m(\u001b[0m\u001b[0;34m*\u001b[0m\u001b[0margs\u001b[0m\u001b[0;34m,\u001b[0m \u001b[0mdata\u001b[0m\u001b[0;34m=\u001b[0m\u001b[0mdata\u001b[0m\u001b[0;34m,\u001b[0m \u001b[0;34m**\u001b[0m\u001b[0mkwargs\u001b[0m\u001b[0;34m)\u001b[0m\u001b[0;34m]\u001b[0m\u001b[0;34m\u001b[0m\u001b[0;34m\u001b[0m\u001b[0m\n\u001b[0m\u001b[1;32m   1647\u001b[0m         \u001b[0;32mfor\u001b[0m \u001b[0mline\u001b[0m \u001b[0;32min\u001b[0m \u001b[0mlines\u001b[0m\u001b[0;34m:\u001b[0m\u001b[0;34m\u001b[0m\u001b[0;34m\u001b[0m\u001b[0m\n\u001b[1;32m   1648\u001b[0m             \u001b[0mself\u001b[0m\u001b[0;34m.\u001b[0m\u001b[0madd_line\u001b[0m\u001b[0;34m(\u001b[0m\u001b[0mline\u001b[0m\u001b[0;34m)\u001b[0m\u001b[0;34m\u001b[0m\u001b[0;34m\u001b[0m\u001b[0m\n",
            "\u001b[0;32m~/Documents/Python/mp-operational-envelope/env/lib/python3.7/site-packages/matplotlib/axes/_base.py\u001b[0m in \u001b[0;36m__call__\u001b[0;34m(self, *args, **kwargs)\u001b[0m\n\u001b[1;32m    214\u001b[0m                 \u001b[0mthis\u001b[0m \u001b[0;34m+=\u001b[0m \u001b[0margs\u001b[0m\u001b[0;34m[\u001b[0m\u001b[0;36m0\u001b[0m\u001b[0;34m]\u001b[0m\u001b[0;34m,\u001b[0m\u001b[0;34m\u001b[0m\u001b[0;34m\u001b[0m\u001b[0m\n\u001b[1;32m    215\u001b[0m                 \u001b[0margs\u001b[0m \u001b[0;34m=\u001b[0m \u001b[0margs\u001b[0m\u001b[0;34m[\u001b[0m\u001b[0;36m1\u001b[0m\u001b[0;34m:\u001b[0m\u001b[0;34m]\u001b[0m\u001b[0;34m\u001b[0m\u001b[0;34m\u001b[0m\u001b[0m\n\u001b[0;32m--> 216\u001b[0;31m             \u001b[0;32myield\u001b[0m \u001b[0;32mfrom\u001b[0m \u001b[0mself\u001b[0m\u001b[0;34m.\u001b[0m\u001b[0m_plot_args\u001b[0m\u001b[0;34m(\u001b[0m\u001b[0mthis\u001b[0m\u001b[0;34m,\u001b[0m \u001b[0mkwargs\u001b[0m\u001b[0;34m)\u001b[0m\u001b[0;34m\u001b[0m\u001b[0;34m\u001b[0m\u001b[0m\n\u001b[0m\u001b[1;32m    217\u001b[0m \u001b[0;34m\u001b[0m\u001b[0m\n\u001b[1;32m    218\u001b[0m     \u001b[0;32mdef\u001b[0m \u001b[0mget_next_color\u001b[0m\u001b[0;34m(\u001b[0m\u001b[0mself\u001b[0m\u001b[0;34m)\u001b[0m\u001b[0;34m:\u001b[0m\u001b[0;34m\u001b[0m\u001b[0;34m\u001b[0m\u001b[0m\n",
            "\u001b[0;32m~/Documents/Python/mp-operational-envelope/env/lib/python3.7/site-packages/matplotlib/axes/_base.py\u001b[0m in \u001b[0;36m_plot_args\u001b[0;34m(self, tup, kwargs)\u001b[0m\n\u001b[1;32m    340\u001b[0m \u001b[0;34m\u001b[0m\u001b[0m\n\u001b[1;32m    341\u001b[0m         \u001b[0;32mif\u001b[0m \u001b[0mx\u001b[0m\u001b[0;34m.\u001b[0m\u001b[0mshape\u001b[0m\u001b[0;34m[\u001b[0m\u001b[0;36m0\u001b[0m\u001b[0;34m]\u001b[0m \u001b[0;34m!=\u001b[0m \u001b[0my\u001b[0m\u001b[0;34m.\u001b[0m\u001b[0mshape\u001b[0m\u001b[0;34m[\u001b[0m\u001b[0;36m0\u001b[0m\u001b[0;34m]\u001b[0m\u001b[0;34m:\u001b[0m\u001b[0;34m\u001b[0m\u001b[0;34m\u001b[0m\u001b[0m\n\u001b[0;32m--> 342\u001b[0;31m             raise ValueError(f\"x and y must have same first dimension, but \"\n\u001b[0m\u001b[1;32m    343\u001b[0m                              f\"have shapes {x.shape} and {y.shape}\")\n\u001b[1;32m    344\u001b[0m         \u001b[0;32mif\u001b[0m \u001b[0mx\u001b[0m\u001b[0;34m.\u001b[0m\u001b[0mndim\u001b[0m \u001b[0;34m>\u001b[0m \u001b[0;36m2\u001b[0m \u001b[0;32mor\u001b[0m \u001b[0my\u001b[0m\u001b[0;34m.\u001b[0m\u001b[0mndim\u001b[0m \u001b[0;34m>\u001b[0m \u001b[0;36m2\u001b[0m\u001b[0;34m:\u001b[0m\u001b[0;34m\u001b[0m\u001b[0;34m\u001b[0m\u001b[0m\n",
            "\u001b[0;31mValueError\u001b[0m: x and y must have same first dimension, but have shapes (25000,) and (4,)"
          ]
        }
      ]
    },
    {
      "cell_type": "code",
      "metadata": {
        "id": "sMCZivvQPCnz",
        "colab_type": "code",
        "colab": {},
        "outputId": "144cacce-0930-4560-ab0c-dc6177ab2863"
      },
      "source": [
        "np.allclose(p, p2)"
      ],
      "execution_count": 0,
      "outputs": [
        {
          "output_type": "execute_result",
          "data": {
            "text/plain": [
              "True"
            ]
          },
          "metadata": {
            "tags": []
          },
          "execution_count": 57
        }
      ]
    },
    {
      "cell_type": "code",
      "metadata": {
        "id": "dkwJWEkxPCn3",
        "colab_type": "code",
        "colab": {}
      },
      "source": [
        ""
      ],
      "execution_count": 0,
      "outputs": []
    }
  ]
}