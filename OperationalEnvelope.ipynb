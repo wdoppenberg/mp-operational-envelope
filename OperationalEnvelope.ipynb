{
  "nbformat": 4,
  "nbformat_minor": 0,
  "metadata": {
    "colab": {
      "name": "OperationalEnvelope.ipynb",
      "provenance": [],
      "collapsed_sections": [],
      "authorship_tag": "ABX9TyOP+6Hh3T5T/jTab+2E2CKe",
      "include_colab_link": true
    },
    "kernelspec": {
      "name": "python3",
      "display_name": "Python 3"
    }
  },
  "cells": [
    {
      "cell_type": "markdown",
      "metadata": {
        "id": "view-in-github",
        "colab_type": "text"
      },
      "source": [
        "<a href=\"https://colab.research.google.com/github/wdoppenberg/mp-operational-envelope/blob/master/OperationalEnvelope.ipynb\" target=\"_parent\"><img src=\"https://colab.research.google.com/assets/colab-badge.svg\" alt=\"Open In Colab\"/></a>"
      ]
    },
    {
      "cell_type": "markdown",
      "metadata": {
        "id": "pStwK5u_hWYs",
        "colab_type": "text"
      },
      "source": [
        "# **Delfi-PQ VLM-LPM In-orbit Demonstrator Operational Envelope Analysis**\n",
        "\n"
      ]
    },
    {
      "cell_type": "markdown",
      "metadata": {
        "id": "jjxUBs70DRfu",
        "colab_type": "text"
      },
      "source": [
        "This notebook is part of the Individual Assignment for the course AE4S07 Micropropulsion, and will analyse the operational envelope of the Delfi-PQ microthruster demonstrator platform. This demonstrator was designed by L. A. Turmaine as part of a thesis, and was done so in accordance with system level requirements set by Delft University of Technology. \n",
        "\n",
        "The report starts with the main problem statement, followed by some background information. After this, the current operational envelope reproducibility study is presented, along with the derived optimisation strategies. Finally the implementation of such strategies is given, as well as the effects this has on the demonstrator platform design.\n"
      ]
    },
    {
      "cell_type": "markdown",
      "metadata": {
        "id": "YDqTSUW0Dnon",
        "colab_type": "text"
      },
      "source": [
        "## Research question\n",
        "\n",
        "Delft University of technology is currently developing and testing two different types of micro-resistojets: the Vaporizing Liquid Micro-resistojet (VLM) and the Low Pressure Micro-resistojet (LPM). The VLM operates by vaporising slightly pressurised liquid water, whereas the LPM is based on the free molecular acceleration of propellant molecules stored at very low pressure. Both of these platforms require in-flight validation, which is the reason why there have been several studies into designing a demonstrator platform which could demonstrate the technology successfully. Considering they both use the same propellant, a single payload unit was designed which could this. Delfi-PQ, Delft University of Technology's latest micro satellite platform, would feature this dual thruster micro-propulsion (DTMP) payload system. \n",
        "\n",
        "The main goal of this paper is to validate, optimise, and thoroughly study the draft operational envelope to find the best possible combination of all operational parameters. This is guided by the following research questions:\n",
        "\n",
        "* **RQ1** What are the input data required to fully characterise the operational envelope, and what are suitable ranges for them?\n",
        "* **RQ2** Is the current draft operational envelope of the micro-propulsion demonstrator payload the best one in terms of simplicity, completeness and effectiveness of the in-orbit demonstration and, if not, which changes would need to be made to it?\n",
        "\n",
        "\n",
        "It is important to note that in this study, the current operational envelope is derived from L. A. Turmaine's thesis work [Turmaine]. This paper serves as the guideline for the most current analytical operational envelope, however it does not mean that more recent or otherwise related work was disregarded. "
      ]
    },
    {
      "cell_type": "code",
      "metadata": {
        "id": "Ky5mGNaeHMOc",
        "colab_type": "code",
        "colab": {}
      },
      "source": [
        "import numpy as np\n",
        "import matplotlib.pyplot as plt\n",
        "import plotly.graph_objects as go"
      ],
      "execution_count": 0,
      "outputs": []
    },
    {
      "cell_type": "markdown",
      "metadata": {
        "id": "jhqicCV-gGFH",
        "colab_type": "text"
      },
      "source": [
        "# Current operational envelope - VLM\n",
        "\n",
        "[[Turmaine, 2018]](https://pdfs.semanticscholar.org/3407/0d83c8b6c77a0f95a16c444f4460dfe5e58c.pdf) "
      ]
    },
    {
      "cell_type": "markdown",
      "metadata": {
        "id": "FFt8HZMmDqUs",
        "colab_type": "text"
      },
      "source": [
        "## Input variables\n",
        "\n",
        "| Variable         | Value               | Unit     | Description                                                                         |\n",
        "|------------------|---------------------|----------|-------------------------------------------------------------------------------------|\n",
        "| $A_t$            | $$4.5\\cdot 10^{-9}$$  | m$^2$    | Nozzle throat area                                                                  |\n",
        "| $l$              | $0.30$              | $m$      | Propellant tubing length                                                            |\n",
        "| $R_{water}$      | $461.67$            | J/K/kg   | Gas constant water vapour                                                           |\n",
        "| $\\Gamma_{water}$ | $0.67$              | -        | Van der Kerckhoven constant water vapour                                            |\n",
        "| $\\rho_{water}$   | $997$               | kg/m$^3$ | Density liquid water                                                                |\n",
        "| $d$              | $1.57\\cdot 10^{-3}$ | m        | Inner diameter propellant tubing                                                    |\n",
        "| $T_0$            | $283$               | K        | Ambient temperature in satellite                                                    |\n",
        "| $h_{vap}$        | $2256$              | kJ/kg    | Heat of vapourization water vapour                                                  |\n",
        "| $c_{p,l}$        | $4187$              | J/K/kg   | Specific heat of liquid water                                                       |\n",
        "| $c_{p,v}$        | $1996$              | J/K/kg   | Specific heat of water vapour                                                       |\n",
        "| $\\Phi_N$         | $0.12$              | -        | Gaseous Nitrogen volume fraction of the initial propellant storage ($\\sum\\Phi_i=1$) |\n",
        "| $p_{0,N}$        | $1.1$                 | bar      | Initial Nitrogen pressure                                                           |\n",
        "| $p_{0,LPM}$      | $2\\cdot 10^4$       | Pa       | LPM testing initial inlet pressure                                                  |\n",
        "| $p_{LPM,req}$    | $270$                 | Pa       | Required pressure in the LPM plenum                                                 |\n",
        "| $m_0$            | $0.5$                 | g        | Total initial propellant mass                                                       |\n",
        "| $m_{0,LPM}$      | $0.2$                 | g        | LPM initial propellant mass                                                         |\n",
        "| $\\eta$           | $0.6 $                | -        | Total heating efficiency                                                            |\n",
        "| $t_{VLM}$        | $1200$                | s        | VLM testing duration                                                                |\n",
        "| $t_{LPM}$        | $200$                 | s        | LPM testing duration                                                                |"
      ]
    },
    {
      "cell_type": "code",
      "metadata": {
        "id": "_x8Iij9PGg4P",
        "colab_type": "code",
        "colab": {}
      },
      "source": [
        "# Temporal components\n",
        "dt = 0.1        #s\n",
        "t_end = 1200    #s\n",
        "t = np.arange(0, t_end, dt, dtype='f')\n",
        "\n",
        "# Propellant properties\n",
        "h = 2256e3      #J/kg\n",
        "c_l = 4187      #J/K/kg liquid water\n",
        "c_v = 1996      #J/K/kg water vapour\n",
        "Gamma = 0.6712\n",
        "R = 461.67      #J/K/kg\n",
        "rho = 997       #kg/m^3\n",
        "p_vap0 = 1e5\n",
        "T_vap0 = 373\n",
        "h_vap = 40e3\n",
        "R_vap = 8.341\n",
        "\n",
        "# Geometric & environmental properties\n",
        "A_t = 4.5e-9    #m^2 \n",
        "l = 0.30        #m\n",
        "d = 1.57e-3     #m\n",
        "T_0 = 283       #K\n",
        "V_tube = (l*np.pi*(d**2))/4\n",
        "\n",
        "# Input parameters\n",
        "p_0 = 1.1e5\n",
        "T_c0 = h_vap*T_vap0/(T_vap0*R_vap*np.log(p_vap0/p_0)+h_vap)\n",
        "mdot_0 = p_0*A_t*Gamma/(np.sqrt(R*T_c0))\n",
        "V_0 = 0.12*V_tube\n",
        "eff_Q = 0.6"
      ],
      "execution_count": 0,
      "outputs": []
    },
    {
      "cell_type": "markdown",
      "metadata": {
        "id": "AWnbgoaEErrl",
        "colab_type": "text"
      },
      "source": [
        "## Performance parameters"
      ]
    },
    {
      "cell_type": "code",
      "metadata": {
        "id": "B1yMaPetVtS3",
        "colab_type": "code",
        "colab": {}
      },
      "source": [
        "mdot = np.zeros(t.shape)\n",
        "p = np.zeros(t.shape)\n",
        "T_c = np.zeros(t.shape)\n",
        "\n",
        "mdot[0] = mdot_0\n",
        "p[0] = p_0\n",
        "T_c[0] = T_c0\n",
        "temp = 0\n",
        "\n",
        "for ii, _ in enumerate(t[1:], 1):\n",
        "    p[ii] = V_0*p_0/(V_0+temp)\n",
        "    mdot[ii] = (p[ii-1]*A_t*Gamma) / np.sqrt(R*T_c[ii-1])\n",
        "    T_c[ii] = h_vap*T_vap0/(T_vap0*R_vap*np.log(p_vap0/p[ii-1])+h_vap)\n",
        "    temp = temp+mdot[ii-1]*dt/rho\n",
        "\n",
        "T_vap = h_vap*T_vap0/(T_vap0*R_vap*np.log(p_vap0/p)+h_vap)\n",
        "Q = mdot * (T_c-T_0)*c_l + h*mdot\n",
        "V_t = V_0 * (p_0 / p)\n",
        "m = (V_tube - V_t) * rho\n",
        "\n",
        "I_sp = 74\n",
        "g_0 = 9.81\n",
        "F_T = mdot*I_sp*g_0"
      ],
      "execution_count": 0,
      "outputs": []
    },
    {
      "cell_type": "code",
      "metadata": {
        "id": "7W7EYWRBv_Mj",
        "colab_type": "code",
        "outputId": "672a40f5-3de9-45a3-debc-61e2c0dd4330",
        "colab": {
          "base_uri": "https://localhost:8080/",
          "height": 739
        }
      },
      "source": [
        "plt.style.use('ggplot')\n",
        "\n",
        "fig, ax = plt.subplots(6, 1, figsize=(10,10), sharex=True)\n",
        "\n",
        "ax[0].plot(t, p)\n",
        "ax[0].set_ylabel('Nitrogen\\npressure [Pa]')\n",
        "ax[0].ticklabel_format(axis=\"y\", style=\"sci\", scilimits=(0,0))\n",
        "print(f'Nitrogen pressure \\t[{min(p):.2e}, {max(p):.2e}] Pa')\n",
        "\n",
        "ax[1].plot(t, mdot)\n",
        "ax[1].set_ylabel('Mass\\nflow [kg/s]')\n",
        "ax[1].ticklabel_format(axis=\"y\", style=\"sci\", scilimits=(0,0))\n",
        "print(f'Mass flow \\t\\t[{min(mdot):.2e}, {max(mdot):.2e}] kg/s')\n",
        "\n",
        "ax[2].plot(t, F_T)\n",
        "ax[2].set_ylabel('Thrust [N]')\n",
        "ax[2].ticklabel_format(axis=\"y\", style=\"sci\", scilimits=(0,0))\n",
        "print(f'Thrust \\t\\t\\t[{min(F_T):.2e}, {max(F_T):.2e}] N')\n",
        "\n",
        "ax[3].plot(t, T_c)\n",
        "ax[3].set_ylabel('Chamber\\ntemperature [K]')\n",
        "ax[3].ticklabel_format(axis=\"y\", style=\"sci\", scilimits=(0,0))\n",
        "print(f'Chamber temperature \\t[{min(T_c):.2e}, {max(T_c):.2e}] K')\n",
        "\n",
        "ax[4].plot(t, m)\n",
        "ax[4].set_ylabel('Propellant\\nmass [kg]')\n",
        "ax[4].ticklabel_format(axis=\"y\", style=\"sci\", scilimits=(0,0))\n",
        "print(f'Propellant mass \\t[{min(m):.2e}, {max(m):.2e}] kg')\n",
        "\n",
        "ax[5].plot(t, Q)\n",
        "ax[5].set_ylabel('Required\\npower [W]')\n",
        "ax[5].ticklabel_format(axis=\"y\", style=\"sci\", scilimits=(0,0))\n",
        "ax[5].set_xlabel('Time [s]')\n",
        "print(f'Required power \\t\\t[{min(Q):.2e}, {max(Q):.2e}] W')\n",
        "print(f'Input power \\t\\t[{min(Q/eff_Q):.2e}, {max(Q/eff_Q):.2e}] W')"
      ],
      "execution_count": 0,
      "outputs": [
        {
          "output_type": "stream",
          "text": [
            "Nitrogen pressure \t[2.01e+04, 1.10e+05] Pa\n",
            "Mass flow \t\t[1.55e-07, 7.98e-07] kg/s\n",
            "Thrust \t\t\t[1.13e-04, 5.79e-04] N\n",
            "Chamber temperature \t[3.32e+02, 3.76e+02] K\n",
            "Propellant mass \t[1.99e-04, 5.10e-04] kg\n",
            "Required power \t\t[3.82e-01, 2.11e+00] W\n",
            "Input power \t\t[6.37e-01, 3.52e+00] W\n"
          ],
          "name": "stdout"
        },
        {
          "output_type": "display_data",
          "data": {
            "image/png": "[encoded data removed]",
            "text/plain": [
              "<Figure size 720x720 with 6 Axes>"
            ]
          },
          "metadata": {
            "tags": []
          }
        }
      ]
    },
    {
      "cell_type": "markdown",
      "metadata": {
        "id": "OJTfohdyVI1e",
        "colab_type": "text"
      },
      "source": [
        "## Validation\n",
        "\n",
        "| Requirement identifier | Description                                                                                                                                        | Achieved |\n",
        "|------------------------|----------------------------------------------------------------------------------------------------------------------------------------------------|----------|\n",
        "| PROP-PERF-200          | The thrust provided by the propulsion system shall be 3 mN as a maximum.                                                                           | X        |\n",
        "| PROP-PERF-210          | The thrust provided by the propulsion system shall be at least 0.12 mN.                                                                            |          |\n",
        "| PROP-PERF-400          | The micro-propulsion system shall operate on a single unregulated supply voltage of 3[VDC] to 4.1[VDC].                                            | X        |\n",
        "| PROP-FUN-100           | The micro-propulsion system shall have at least two modes: idle with max. power consumption 15 mW, and full thrust with max. power consumption 4W. | X        |\n",
        "| PROP-FUN-200           | The thruster shall be able to operate on gaseous N$_2$, as well as on liquid H$_2$O.                                                                     |          |\n",
        "| PROP-RAMS-200          | The internal pressure of all propulsion system components shall not be higher than 10 bar.                                                         | X        |\n",
        "\n",
        "---\n",
        "\n",
        "As mentioned in [Turmaine], several choices for the operational envelope were made on a rough estimation of the VLM's thrust. **PROP-PERF-200** and even moreso **PROP-PERF-210** are difficult to validate using the given input variables. In all likelihood however, the minimum thrust of 0.12 mN will not be maintained by the VLM throughout operation, as it barely reaches this level using performance calculations that adhere to all the assumptions of Ideal Rocket Theory (IRT). Losses due to viscous effects, for example, have not been priced in yet. \n",
        "\n",
        "With regard to **PROP-FUN-200**: it is decided that the case using liquid water is used as a guiding setup for the system. Once the analytical model stands, it will be tested by replacing the relevant variables. "
      ]
    },
    {
      "cell_type": "markdown",
      "metadata": {
        "id": "NlfLsYumekWY",
        "colab_type": "text"
      },
      "source": [
        "# Current operational envelope - LPM\n"
      ]
    },
    {
      "cell_type": "markdown",
      "metadata": {
        "id": "ecj_IXk9fBdt",
        "colab_type": "text"
      },
      "source": [
        "[[Guerrieri, 2018]](https://pure.tudelft.nl/portal/files/46308497/dissertation.pdf)\n",
        "\n"
      ]
    },
    {
      "cell_type": "markdown",
      "metadata": {
        "id": "NOgx7oSya1mT",
        "colab_type": "text"
      },
      "source": [
        "# Theory"
      ]
    },
    {
      "cell_type": "markdown",
      "metadata": {
        "id": "qu8dYE9kvlji",
        "colab_type": "text"
      },
      "source": [
        "## Ideal Rocket Theory - VLM\n",
        "\n",
        "* [Experimental and Numerical Determination of Micropropulsion\n",
        "Device Efficiencies at Low Reynolds Numbers](https://engineering.purdue.edu/~alexeenk/papers/aiaaj-05.pdf)\n",
        "* [Experimental Study of Low\n",
        "Reynolds Number Nozzles ](https://ntrs.nasa.gov/archive/nasa/casi.ntrs.nasa.gov/19870010950.pdf)\n",
        "\n",
        "The above operational envelope calculations do not take into account impact of the boundary layer separation caused by low Reynolds numbers which often occur in microthrusters. \n",
        "\n",
        "Before diving into the formulas that approach these losses, it is useful to set up the required set of formulas that describe the engine with IRT. \n",
        "\n",
        "From [[Makhan, 2019]](https://repository.tudelft.nl/islandora/object/uuid%3Aaaed2594-d414-4c83-967b-0cd94cccd23f):\n",
        "\n",
        "\"The nozzle discharge factor relates the experimental mass flow to the theoretical mass flow. It accounts for boundary layer effects and real gas effects (e.g. compressibility). The nozzle quality relates the experimental thrust coefficient to the theoretical thust coefficient. It accounts for losses due to friction effects, divergence and shifting gas composition. [[Suton & Biblarz]](http://mae-nas.eng.usu.edu/MAE_5540_Web/propulsion_systems/subpages/Rocket_Propulsion_Elements.pdf) [[Huzel and Huang]](https://ntrs.nasa.gov/archive/nasa/casi.ntrs.nasa.gov/19710019929.pdf) [[Spisz et al]](https://ntrs.nasa.gov/archive/nasa/casi.ntrs.nasa.gov/19650027295.pdf).\"\n",
        "\n",
        "$$ C_d = \\frac{(A_t)_{eff}}{(A_t)_{ideal}} \\approx \\frac{\\dot{m}_{exp}}{\\dot{m}_{ideal}} $$\n",
        "\n",
        "$$ \\xi_F = \\frac{(C_F)_{eff}}{(C_F)_{ideal}} = \\frac{F(p_c\\cdot A_t)^{-1}}{(C_F)_{ideal}}$$\n",
        "\n",
        "$$ (C_F)_{ideal} = {C_F}^{\\circ}  + \\left( \\frac{p_e}{p_c} - \\frac{p_a}{p_c} \\right) \\cdot AR = \\Gamma \\cdot \\sqrt{ \\frac{2\\gamma}{\\gamma-1} \\cdot \\left( 1 - \\left( \\frac{p_e}{p_c}\\right)^{\\frac{\\gamma-1}{\\gamma}} \\right)} + \\left( \\frac{p_e}{p_a} - \\frac{p_a}{p_c} \\right) \\cdot \\frac{A_e}{A_t}$$\n",
        "\n",
        "$$ F = \\dot{m}\\cdot C_F \\cdot c^* $$\n",
        "\n",
        "$$ {C_F}^{\\circ} = \\frac{V_e}{c^{*}} $$\n",
        "\n",
        "$$ \\xi_s = \\frac{(I_{sp})_{exp}}{(I_{sp})_{ideal}} $$\n",
        "\n",
        "$$ \\xi_b = \\frac{(c^*)_{exp}}{(c^*)_{ideal}} = \\frac{\\xi_s}{\\xi_F} $$\n",
        "\n",
        "$$ Re = \\frac{\\dot{m}\\cdot D_H}{\\mu_t \\cdot A_t} $$\n",
        "\n",
        "$$ D_H = \\frac{4A_t}{P_w} $$\n",
        "\n",
        "$$ \\frac{T_t}{T_{tot}} = \\frac{\\gamma + 1}{2} $$"
      ]
    },
    {
      "cell_type": "markdown",
      "metadata": {
        "id": "itZai6WwbeZ6",
        "colab_type": "text"
      },
      "source": [
        "## Losses"
      ]
    },
    {
      "cell_type": "markdown",
      "metadata": {
        "id": "CRB0hm95Cz6k",
        "colab_type": "text"
      },
      "source": [
        "### Divergence loss\n",
        "\n",
        "[[Farokhi]](https://www.wiley.com/en-us/Aircraft+Propulsion%2C+2nd+Edition-p-9781118806777)\n",
        "\n",
        "$$ (C_F)_{div\\_loss} = CA \\cdot {C_F}^{\\circ} + \\left( \\frac{p_e}{p_a} - \\frac{p_a}{p_c} \\right)\\cdot AR$$\n",
        "\n",
        "$$ CA_{2D-C} = \\frac{\\sin(\\theta_{nd})}{\\theta_{nd}}$$\n",
        "\n",
        "$$ CA_{3D-C} = \\frac{1+\\cos(\\theta_{nd})}{2}$$ \n",
        "\n",
        "* $C_A$: divergence loss factor [-]\n",
        "* $\\theta_{nd}$: nozzle divergence half angle [rad]\n",
        "* 2D-C: 2D conical nozzle\n",
        "* 3D-C: 3D conical nozzle\n"
      ]
    },
    {
      "cell_type": "code",
      "metadata": {
        "id": "AVdylElPrheI",
        "colab_type": "code",
        "outputId": "b3fcc53c-b64c-4919-de19-a969b7ef7fe9",
        "colab": {
          "base_uri": "https://localhost:8080/",
          "height": 34
        }
      },
      "source": [
        "def C_F_divloss(CA, C_F0, p_e, p_a, p_c, AR):\n",
        "    return CA*C_F0 + (p_e/p_a - p_a/p_c)*AR\n",
        "\n",
        "def CA_2D(theta_nd):\n",
        "    return np.sin(theta_nd)/theta_nd\n",
        "\n",
        "def CA_3D(theta_nd):\n",
        "    return (1+np.cos(theta_nd))/2\n",
        "\n",
        "theta_nd = np.radians([10, 15, 20])\n",
        "1-CA_3D(theta_nd)"
      ],
      "execution_count": 0,
      "outputs": [
        {
          "output_type": "execute_result",
          "data": {
            "text/plain": [
              "array([0.00759612, 0.01703709, 0.03015369])"
            ]
          },
          "metadata": {
            "tags": []
          },
          "execution_count": 160
        }
      ]
    },
    {
      "cell_type": "markdown",
      "metadata": {
        "id": "XJkuXCQw4FZ9",
        "colab_type": "text"
      },
      "source": [
        "Verified using p.80 from [Zandbergen]"
      ]
    },
    {
      "cell_type": "markdown",
      "metadata": {
        "id": "upeoqcbobhX7",
        "colab_type": "text"
      },
      "source": [
        "### Viscous loss\n",
        "\n",
        "[[Spisz et al]](https://ntrs.nasa.gov/archive/nasa/casi.ntrs.nasa.gov/19650027295.pdf)\n",
        "\n",
        "$$ (C_F)_{visc\\_loss} = (C_F)_{ideal} - (C_F)_{visc} = (C_F)_{ideal} - \\frac{17.6\\cdot e^{0.0032\\cdot AR}}{\\sqrt{0.773Re}}$$"
      ]
    },
    {
      "cell_type": "code",
      "metadata": {
        "id": "gvGe09T0sKN7",
        "colab_type": "code",
        "outputId": "11fc9778-74bc-45a4-b1d8-a1ebe3a98088",
        "colab": {
          "base_uri": "https://localhost:8080/",
          "height": 34
        }
      },
      "source": [
        "def C_F_visc(AR, Re):\n",
        "    return (17.6 * np.exp(0.0032*AR))/np.sqrt(0.773*Re)\n",
        "\n",
        "C_F0 = 1\n",
        "AR = 10\n",
        "Re = np.logspace(3, 7, 5)\n",
        "\n",
        "C_F_visc(AR, Re)"
      ],
      "execution_count": 0,
      "outputs": [
        {
          "output_type": "execute_result",
          "data": {
            "text/plain": [
              "array([0.65361249, 0.20669042, 0.06536125, 0.02066904, 0.00653612])"
            ]
          },
          "metadata": {
            "tags": []
          },
          "execution_count": 156
        }
      ]
    },
    {
      "cell_type": "markdown",
      "metadata": {
        "id": "QRIY5jB3znDU",
        "colab_type": "text"
      },
      "source": [
        "Verified using p. 86 from [Zandbergen]"
      ]
    },
    {
      "cell_type": "markdown",
      "metadata": {
        "id": "jQQSvfB3blWM",
        "colab_type": "text"
      },
      "source": [
        "### Throat boundary layer loss\n",
        "\n",
        "[[Tang and Fenn]](https://arc.aiaa.org/doi/abs/10.2514/3.60854)\n",
        "\n",
        "$$ R_{mod} = Re\\sqrt{\\frac{R^*}{R_t}} $$\n",
        "\n",
        "$$ (C_d)_{bd\\_loss} = 1-\\left(\\frac{\\gamma+1}{2}\\right)^{3 / 4}\\left\\{\\frac{72-32 \\sqrt{6}}{3(\\gamma+1)}+\\frac{4 \\sqrt{6}}{3}\\right\\}\\left(\\frac{1}{\\sqrt{R_{m o d}}}\\right)+\\left(\\frac{2 \\sqrt{2}(\\gamma-1)(\\gamma+2)}{3 \\sqrt{\\gamma+1}}\\right)\\left(\\frac{1}{R_{m o d}}\\right) $$\n",
        "\n",
        "\n",
        "* $R_{mod}$: modified Reynolds number needed to calculate $ (C_d)_{bd\\_loss} $\n",
        "* $R^*$: radius of curvature of nozzle throat section [m]\n",
        "* $R_t$: radius of nozzle throat [m] "
      ]
    },
    {
      "cell_type": "code",
      "metadata": {
        "id": "kjEGy06astCi",
        "colab_type": "code",
        "outputId": "e8f7e110-315d-4ddc-f9cb-91cf280dfad6",
        "colab": {
          "base_uri": "https://localhost:8080/",
          "height": 51
        }
      },
      "source": [
        "def R_mod(Re, R_curv, R_t):\n",
        "    return Re*np.sqrt(R_curv/R_t)\n",
        "\n",
        "def C_d_bdloss(g, Re, R_curv, R_t):\n",
        "\n",
        "    A = ((g+1)/2)**(3/4) * ( (72-32*np.sqrt(6))/(3*(g+1)) + (4*np.sqrt(6))/3 )\\\n",
        "            * (1/np.sqrt(R_mod(Re, R_curv, R_t)))\n",
        "    B = ((2*np.sqrt(2)*(g-1)*(g+2))/(3*np.sqrt(g+1)))*(1/R_mod(Re, R_curv, R_t))\n",
        "\n",
        "    return 1 - A + B\n",
        "\n",
        "Re = np.logspace(1, 6, 6)\n",
        "gamma = 1.2\n",
        "R_curv = 1\n",
        "R_t = 1\n",
        "\n",
        "C_d_bdloss(gamma, Re, R_curv, R_t)"
      ],
      "execution_count": 0,
      "outputs": [
        {
          "output_type": "execute_result",
          "data": {
            "text/plain": [
              "array([0.25988292, 0.75715805, 0.922327  , 0.97534968, 0.99219609,\n",
              "       0.99753131])"
            ]
          },
          "metadata": {
            "tags": []
          },
          "execution_count": 158
        }
      ]
    },
    {
      "cell_type": "markdown",
      "metadata": {
        "id": "N0IflSmB0so6",
        "colab_type": "text"
      },
      "source": [
        "Verified using p.87 from [Zandbergen] (small differences attributed to rounding errors)"
      ]
    },
    {
      "cell_type": "markdown",
      "metadata": {
        "id": "NF5BGKcKJf1b",
        "colab_type": "text"
      },
      "source": [
        "## Quality factors\n",
        "\n",
        "[Zandbergen]\n",
        "\n",
        "$$ F_{id} = m_{id}\\cdot C_{F,id}\\cdot c^*_{id} $$\n",
        "$$ F_{real} = m_{real}\\cdot C_{F,real}\\cdot c^*_{real} $$\n",
        "\n",
        "_id_: ideal\n",
        "\n",
        "Define quality factors denoted with $\\xi$:\n",
        "\n",
        "$$ F_{real} = \\xi_{F}F_{id} = C_d m_{id} \\cdot \\xi_n C_{F,id} \\cdot \\xi_c c^*_{id} = C_d m_{id} \\cdot \\xi_s I_{sp,id}$$\n",
        "\n",
        "* Motor or thrust quality factor:\n",
        "\n",
        "$$ \\xi_F = \\frac{F_{real}}{F_{id}} = C_d\\xi_n\\xi_c $$\n",
        "\n",
        "* Discharge coefficient:\n",
        "\n",
        "$$ \\frac{m_{real}}{m_{id}} = \\frac{C_d}{\\xi_c} $$\n",
        "\n",
        "* Nozzle flow quality:\n",
        "\n",
        "$$ \\xi_n = \\frac{C_{F,real}}{C_{F,id}} $$\n",
        "\n",
        "* Combustion or heating quality:\n",
        "\n",
        "$$ \\xi_c = \\frac{c^*_{real}}{c^*_{id}} $$\n",
        "\n",
        "* $I_{sp}$ or propellant consumption quality:\n",
        "\n",
        "$$ \\xi_s = \\frac{I_{sp,real}}{I_{sp,id}} = \\xi_n \\xi_c $$"
      ]
    },
    {
      "cell_type": "markdown",
      "metadata": {
        "id": "qs1KQEptJoKh",
        "colab_type": "text"
      },
      "source": [
        "### Low throat Reynolds number \n",
        "\n",
        "[Zandbergen] p.60-62\n",
        "\n",
        "Discharge coefficient [Sheshagiri]\n",
        "\n",
        "$$ C_d = C_{\\rho}C_v C_A $$\n",
        "\n",
        "* Mass flux coefficient\n",
        "\n",
        "$$ C_{\\rho v} = \\frac{(\\rho v)_{eff}}{(\\rho v)_{id}} $$\n",
        "\n",
        "* Area contraction coefficient \n",
        "\n",
        "$$ C_A = \\frac{A_{t,eff}}{A_t} $$"
      ]
    },
    {
      "cell_type": "markdown",
      "metadata": {
        "id": "Up6YqLVFSiOd",
        "colab_type": "text"
      },
      "source": [
        "### Experimental data\n",
        "\n",
        "| Data source     | $F$ [mN]  | $$(C_F)_{ideal}$$ [-] | $(C_F)_{exp}$ [-] | $\\xi_F$ [-] | $\\xi_s$ [-] | $C_d$ [-] | $Re$ [-] |\n",
        "|-----------------|-----------|---------------------|-------------------|-------------|-------------|-----------|----------|\n",
        "| Van Wees (2017) | 0.1-0.265 | 1.61                | 0.22-0.33         | 0.2-0.3     | 0.2-0.3     | 0.66-0.68 | 688-1200 |\n",
        "| Jansen (2016)   | 15.7      | 1.348               | 1.164             | 0.89        | -           | 0.87      | 9968     |"
      ]
    },
    {
      "cell_type": "markdown",
      "metadata": {
        "id": "yUf_fl5TidLs",
        "colab_type": "text"
      },
      "source": [
        "# Experiments"
      ]
    },
    {
      "cell_type": "code",
      "metadata": {
        "id": "BtxOwZTEE7pU",
        "colab_type": "code",
        "colab": {}
      },
      "source": [
        ""
      ],
      "execution_count": 0,
      "outputs": []
    }
  ]
}