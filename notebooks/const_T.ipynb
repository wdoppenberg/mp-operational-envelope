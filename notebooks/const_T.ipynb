{
 "nbformat": 4,
 "nbformat_minor": 2,
 "metadata": {
  "language_info": {
   "name": "python",
   "codemirror_mode": {
    "name": "ipython",
    "version": 3
   },
   "version": "3.7.6-final"
  },
  "orig_nbformat": 2,
  "file_extension": ".py",
  "mimetype": "text/x-python",
  "name": "python",
  "npconvert_exporter": "python",
  "pygments_lexer": "ipython3",
  "version": 3,
  "kernelspec": {
   "name": "python37664bitenvvirtualenve22194d806aa42a98c1225ce91f0776a",
   "display_name": "Python 3.7.6 64-bit ('env': virtualenv)"
  }
 },
 "cells": [
  {
   "cell_type": "code",
   "execution_count": 1,
   "metadata": {},
   "outputs": [],
   "source": [
    "import matplotlib.pyplot as plt\n",
    "import numpy as np, pandas as pd, scipy as sp"
   ]
  },
  {
   "cell_type": "markdown",
   "metadata": {},
   "source": [
    "## Define variables"
   ]
  },
  {
   "cell_type": "code",
   "execution_count": 31,
   "metadata": {},
   "outputs": [
    {
     "ename": "SyntaxError",
     "evalue": "invalid character in identifier (<ipython-input-31-92ce084074ec>, line 36)",
     "output_type": "error",
     "traceback": [
      "\u001b[0;36m  File \u001b[0;32m\"<ipython-input-31-92ce084074ec>\"\u001b[0;36m, line \u001b[0;32m36\u001b[0m\n\u001b[0;31m    p[jj,ii] =V_0*p_0[jj]/(V_0+temp[jj,ii−1])\u001b[0m\n\u001b[0m                                          ^\u001b[0m\n\u001b[0;31mSyntaxError\u001b[0m\u001b[0;31m:\u001b[0m invalid character in identifier\n"
     ]
    }
   ],
   "source": [
    "h = 2256e3      #J/kg\n",
    "c_l = 4187      #J/K/kg liquid water \n",
    "c_v = 1996      #J/K/kg water vapour\n",
    "T_0 = 283       #K\n",
    "A = 4.5e-9      #m^2 \n",
    "Gamma = 0.6712\n",
    "R = 461.67\n",
    "rho = 997       #kg/m^3\n",
    "l = 0.30        #m\n",
    "d = 1.57e-3     #m\n",
    "\n",
    "p_0 = np.array([1.0, 1.4, 1.8, 2.2])*1e5 #Pa\n",
    "\n",
    "V_tube = (l*np.pi*d**2)/4\n",
    "\n",
    "V_0 = 0.1*V_tube #m^3 \n",
    "delt = 0.1\n",
    "t = np.arange(0,2500,delt)\n",
    "p_vap0 = 1e5\n",
    "T_vap0 = 373\n",
    "h_vap = 40e3\n",
    "R_vap = 8.341\n",
    "T_c0 = h_vap*T_vap0/(T_vap0*R_vap*np.log(p_vap0/p_0)+h_vap)\n",
    "m_0 = p_0*A*Gamma/(np.sqrt(R*T_c0))\n",
    "m = np.zeros((len(p_0), len(t)))\n",
    "p = np.zeros((len(p_0), len(t)))\n",
    "\n",
    "T_c = np.zeros((len(p_0), len(t)))\n",
    "temp = np.zeros((len(p_0), len(t)))\n",
    "m[: ,0] = m_0\n",
    "p[: ,0] = p_0\n",
    "T_c = 600\n",
    "temp[:,0] = 0\n",
    "for jj in range(0,len(p_0)):\n",
    "    for ii in range(1,len(t)):\n",
    "        p[jj,ii] =V_0*p_0[jj]/(V_0+temp[jj,ii−1])\n",
    "        m[jj,ii] = p[jj,ii−1]*A*Gamma/(np.sqrt(R*T_c))\n",
    "        temp[jj,ii] = temp[jj,ii−1]+m[jj,ii]*delt/rho\n"
   ]
  },
  {
   "cell_type": "markdown",
   "metadata": {},
   "source": [
    "## Define functions"
   ]
  },
  {
   "cell_type": "code",
   "execution_count": 22,
   "metadata": {},
   "outputs": [
    {
     "data": {
      "text/plain": "array([[0., 0., 0., ..., 0., 0., 0.],\n       [0., 0., 0., ..., 0., 0., 0.],\n       [0., 0., 0., ..., 0., 0., 0.],\n       [0., 0., 0., ..., 0., 0., 0.]])"
     },
     "execution_count": 22,
     "metadata": {},
     "output_type": "execute_result"
    }
   ],
   "source": [
    "p"
   ]
  },
  {
   "cell_type": "code",
   "execution_count": 29,
   "metadata": {},
   "outputs": [
    {
     "name": "stdout",
     "output_type": "stream",
     "text": "2\n3\n4\n"
    }
   ],
   "source": [
    "for i in range(2,5): print(i)"
   ]
  },
  {
   "cell_type": "code",
   "execution_count": null,
   "metadata": {},
   "outputs": [],
   "source": []
  }
 ]
}